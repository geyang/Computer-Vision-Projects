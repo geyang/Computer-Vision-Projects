{
  "nbformat": 4,
  "nbformat_minor": 0,
  "metadata": {
    "colab": {
      "name": "ruchaa_50230340.ipynb",
      "provenance": [],
      "collapsed_sections": [],
      "toc_visible": true
    },
    "kernelspec": {
      "name": "python3",
      "display_name": "Python 3"
    }
  },
  "cells": [
    {
      "cell_type": "markdown",
      "metadata": {
        "id": "Uqh1kK1LeS2U",
        "colab_type": "text"
      },
      "source": [
        "#EECS 504 PS3: Motion Magnification and Texture Synthesis\n",
        "\n",
        "Please provide the following information \n",
        "(e.g. Andrew Owens, ahowens):\n",
        "\n",
        "Rucha Apte, ruchaa\n",
        "\n",
        "\n"
      ]
    },
    {
      "cell_type": "markdown",
      "metadata": {
        "id": "Wug5j9jHeeAx",
        "colab_type": "text"
      },
      "source": [
        "# Starting\n",
        "\n",
        "Run the following code to import the modules you'll need. After your finish the assignment, remember to run all cells and save the notebook to your local machine as a .ipynb file for Canvas submission."
      ]
    },
    {
      "cell_type": "code",
      "metadata": {
        "id": "loxyYKR1ZBsG",
        "colab_type": "code",
        "colab": {}
      },
      "source": [
        "%matplotlib inline\n",
        "import numpy as np\n",
        "from numpy.fft import fft2, ifft2, fftshift, ifftshift\n",
        "from numpy import angle, real\n",
        "from numpy import exp, abs, pi, sqrt\n",
        "import matplotlib.pyplot as plt\n",
        "import cv2\n",
        "import math\n",
        "\n",
        "import random\n",
        "import sys\n",
        "from scipy import ndimage\n",
        "\n",
        "# cv2.imshow does not work in Colab, we use cv2_imshow instead\n",
        "from google.colab.patches import cv2_imshow"
      ],
      "execution_count": 0,
      "outputs": []
    },
    {
      "cell_type": "code",
      "metadata": {
        "id": "-O7p5RhASRaB",
        "colab_type": "code",
        "colab": {}
      },
      "source": [
        "%%capture\n",
        "# download some images\n",
        "# should take a second to run\n",
        "\n",
        "# for motion magnification problem\n",
        "! wget -O bill.avi \"https://drive.google.com/uc?export=download&id=1QR2dCShn-fYYEvcAQ8J4mnIo_ISqrjc7\"\n",
        "\n",
        "# for texture synthesis problem\n",
        "! wget -O texture.jpg \"https://drive.google.com/uc?export=download&id=11IlTZNLwfYsXQt2L1GbKdNqcj6JNkQik\"\n",
        "! wget -O rings.jpg \"https://drive.google.com/uc?export=download&id=1fYtmQe_a40BWg1OU178SFbcU4KRZuphn\"\n",
        "! wget -O jigsaw.jpg \"https://drive.google.com/uc?export=download&id=1SlYUw6vT9_PNP8XNhQfAu36AtPJ-PMpk\""
      ],
      "execution_count": 0,
      "outputs": []
    },
    {
      "cell_type": "markdown",
      "metadata": {
        "id": "RpV5DTNmaBDk",
        "colab_type": "text"
      },
      "source": [
        "## **Problem 3.1 (a)**"
      ]
    },
    {
      "cell_type": "code",
      "metadata": {
        "id": "ijhkAqcdZM3v",
        "colab_type": "code",
        "colab": {}
      },
      "source": [
        "def imshow(im, cmap='gray'):\n",
        "    # clip image from 0-1\n",
        "    im = np.clip(im, 0, 1)\n",
        "    plt.imshow(im, cmap=cmap)"
      ],
      "execution_count": 0,
      "outputs": []
    },
    {
      "cell_type": "code",
      "metadata": {
        "id": "Mo2f0-Y6ZQyf",
        "colab_type": "code",
        "colab": {}
      },
      "source": [
        "# 9x9 images\n",
        "im_size = 9\n",
        "\n",
        "# we would like to magnify the change between im1 and im2 by 4x\n",
        "magnification_factor = 4;\n",
        "\n",
        "# horizontal movement from (0, 0) to (0, 1)\n",
        "im1 = np.zeros([im_size, im_size])\n",
        "im2 = np.zeros([im_size, im_size])\n",
        "im1[0,0] = 1\n",
        "im2[0,1] = 1\n",
        "\n",
        "ff1 = fftshift(fft2(im1))\n",
        "ff2 = fftshift(fft2(im2))"
      ],
      "execution_count": 0,
      "outputs": []
    },
    {
      "cell_type": "markdown",
      "metadata": {
        "id": "USjr94uIXJ1Y",
        "colab_type": "text"
      },
      "source": [
        "### This is a quick tutorial for those who are not familiar with complex numbers in python."
      ]
    },
    {
      "cell_type": "code",
      "metadata": {
        "id": "KOZCXoSWZV2D",
        "colab_type": "code",
        "outputId": "68d8b940-497d-4455-ee76-b19a5a31090e",
        "colab": {
          "base_uri": "https://localhost:8080/",
          "height": 101
        }
      },
      "source": [
        "# create a complex number\n",
        "x = 1 + 1j\n",
        "print(\"x =\", x)\n",
        "print(\"x.real\", x.real, \"x.imag\", x.imag)\n",
        "\n",
        "# magnitude and phase of complex number\n",
        "mag = abs(x)\n",
        "phase = angle(x)\n",
        "\n",
        "print(\"Magnitude\", mag)\n",
        "print(\"Phase\", phase)\n",
        "\n",
        "# Euler's formula\n",
        "y = mag * exp(phase * 1j)\n",
        "print(\"y =\", y)"
      ],
      "execution_count": 156,
      "outputs": [
        {
          "output_type": "stream",
          "text": [
            "x = (1+1j)\n",
            "x.real 1.0 x.imag 1.0\n",
            "Magnitude 1.4142135623730951\n",
            "Phase 0.7853981633974483\n",
            "y = (1.0000000000000002+1j)\n"
          ],
          "name": "stdout"
        }
      ]
    },
    {
      "cell_type": "code",
      "metadata": {
        "id": "uWusq5kFZSEw",
        "colab_type": "code",
        "colab": {}
      },
      "source": [
        "def magnify_change(im1, im2, magnification_factor):\n",
        "    \n",
        "    # find phase shift in frequency domain\n",
        "    im1_dft = fft2(im1)\n",
        "    im2_dft = fft2(im2)\n",
        "    phase_shift = angle(im2_dft)-angle(im1_dft)\n",
        "    m1=abs(im1_dft)\n",
        "    m2=abs(im2_dft)\n",
        "    \n",
        "    # magnify the phase change in frequency domain \n",
        "    y=phase_shift*magnification_factor\n",
        "    z=angle(im1_dft)+y\n",
        "    magnified_dft = m1*exp(z*1j)\n",
        "    \n",
        "    # what does the magnified phase change cause in image space?\n",
        "    magnified = ifft2(magnified_dft).real\n",
        "    \n",
        "    return magnified"
      ],
      "execution_count": 0,
      "outputs": []
    },
    {
      "cell_type": "code",
      "metadata": {
        "id": "YulC7V6nZW2u",
        "colab_type": "code",
        "outputId": "24a0bf6d-9bd0-4fb6-bf8c-64222e06dc1f",
        "colab": {
          "base_uri": "https://localhost:8080/",
          "height": 261
        }
      },
      "source": [
        "# magnify position change\n",
        "magnified = magnify_change(im1, im2, magnification_factor);\n",
        "\n",
        "plt.figure(figsize=(12,36))\n",
        "plt.subplot(131)\n",
        "imshow(im1); plt.title('im1');\n",
        "\n",
        "plt.subplot(132)\n",
        "imshow(im2); plt.title('im2');\n",
        "\n",
        "plt.subplot(133)\n",
        "imshow(magnified); plt.title('magnified');"
      ],
      "execution_count": 158,
      "outputs": [
        {
          "output_type": "display_data",
          "data": {
            "image/png": "[encoded data removed]",
            "text/plain": [
              "<Figure size 864x2592 with 3 Axes>"
            ]
          },
          "metadata": {
            "tags": []
          }
        }
      ]
    },
    {
      "cell_type": "markdown",
      "metadata": {
        "id": "nQAF4he7Za_8",
        "colab_type": "text"
      },
      "source": [
        "## **Problem 3.1 (b)**\n"
      ]
    },
    {
      "cell_type": "code",
      "metadata": {
        "id": "1LPwI_TsZfDR",
        "colab_type": "code",
        "outputId": "c4da5c90-109e-4d86-cbdf-9037ad39b2c6",
        "colab": {
          "base_uri": "https://localhost:8080/",
          "height": 261
        }
      },
      "source": [
        "# 9x9 images\n",
        "im_size = 9\n",
        "\n",
        "# we would like to magnify the change between im1 and im2 by 4x\n",
        "magnification_factor = 4\n",
        "\n",
        "# horizontal movement from (0, 0) to (0, 1)\n",
        "# additional vertical movement from (8, 8) to (7, 8)\n",
        "im1 = np.zeros([im_size, im_size])\n",
        "im2 = np.zeros([im_size, im_size])\n",
        "im1[0,0] = 1\n",
        "im2[0,1] = 1\n",
        "im1[8,8] = 1\n",
        "im2[7,8] = 1\n",
        "\n",
        "# magnify position change\n",
        "magnified = magnify_change(im1, im2, magnification_factor)\n",
        "\n",
        "\n",
        "plt.figure(figsize=(12,36))\n",
        "plt.subplot(131)\n",
        "imshow(im1); plt.title('im1');\n",
        "\n",
        "plt.subplot(132)\n",
        "imshow(im2); plt.title('im2');\n",
        "\n",
        "plt.subplot(133)\n",
        "imshow(magnified); plt.title('magnified');\n"
      ],
      "execution_count": 159,
      "outputs": [
        {
          "output_type": "display_data",
          "data": {
            "image/png": "[encoded data removed]",
            "text/plain": [
              "<Figure size 864x2592 with 3 Axes>"
            ]
          },
          "metadata": {
            "tags": []
          }
        }
      ]
    },
    {
      "cell_type": "markdown",
      "metadata": {
        "id": "JPo5iVKfT4fU",
        "colab_type": "text"
      },
      "source": [
        "**3.1 b) Phase is not a linear transfromation. The first and the second box move to the right and upwards. The gaussian window prevents the movement of first box to affect the second box.**"
      ]
    },
    {
      "cell_type": "markdown",
      "metadata": {
        "colab_type": "text",
        "id": "XyIt4H8MZnno"
      },
      "source": [
        "## **Problem 3.1 (c)**\n"
      ]
    },
    {
      "cell_type": "code",
      "metadata": {
        "id": "NomQMElTZYiq",
        "colab_type": "code",
        "outputId": "66970025-9314-41f8-8be5-5fdaf58113b3",
        "colab": {
          "base_uri": "https://localhost:8080/",
          "height": 278
        }
      },
      "source": [
        "#def gaussian kernel(center=(0,0), image_size=(9,9),sigma=2):\n",
        " # x_axis= np.linspace(0, image_size[0]-1, image_size[0])- center[0]\n",
        "  #y_axis= np.linspace(0, image_size[1]-1, image_size[1])- center[1]\n",
        "  #xx, yy= np.meshgrid(x_axis,y_axis)\n",
        "  #kernel=np.exp(-(1/2)*((xx**xx)+(yy**yy))/(sigma**sigma))\n",
        "  #return kernel                                  \n",
        "\n",
        "# 9x9 images\n",
        "im_size = 9\n",
        "\n",
        "# we would like to magnify the change between im1 and im2 by 4x\n",
        "magnification_factor = 4\n",
        "\n",
        "# width of our Gaussian window\n",
        "sigma = 2\n",
        "\n",
        "# horizontal movement from (0, 0) to (0, 1)\n",
        "# additional vertical movement from (8, 8) to (7, 8)\n",
        "im1 = np.zeros([im_size, im_size])\n",
        "im2 = np.zeros([im_size, im_size])\n",
        "im1[0,0] = 1\n",
        "im2[0,1] = 1\n",
        "im1[8,8] = 1\n",
        "im2[7,8] = 1\n",
        "\n",
        "# we will magnify windows of the image and aggregate the results\n",
        "magnified = np.zeros([im_size, im_size])\n",
        "\n",
        "# meshgrid for computing Gaussian window\n",
        "X, Y = np.meshgrid(np.arange(im_size), np.arange(im_size))\n",
        "#gaussian_mask = (1/(2*np.pi*sigma*sigma)) * exp((-((X-4)**2 + (Y)**2))/(2*sigma**2))\n",
        "#plt.imshow(gaussian_mask)\n",
        "#plt.show()\n",
        "\n",
        "for y in range(0, im_size, 2*sigma):\n",
        "    for x in range(0, im_size, 2*sigma):\n",
        "        #gaussian_mask = (1/(2*np.pi*np.square(sigma))*np.exp(-(np.square(X-x)/(2*np.square(sigma)))+(np.square(Y-y)/(2*np.square(sigma)))))\n",
        "        gaussian_mask = (1/(2*np.pi*sigma*sigma)) * exp((-((X-x)**2 + (Y-y)**2))/(2*sigma**2))\n",
        "        p=im1*gaussian_mask\n",
        "        q=im2*gaussian_mask\n",
        "        window_magnified = magnify_change(p, q, magnification_factor)\n",
        "        \n",
        "        magnified = magnified + window_magnified\n",
        "        \n",
        "plt.figure(figsize=(12,36))\n",
        "plt.subplot(131)\n",
        "imshow(im1); plt.title('im1');\n",
        "\n",
        "plt.subplot(132)\n",
        "imshow(im2); plt.title('im2');\n",
        "\n",
        "plt.subplot(133)\n",
        "imshow(magnified); plt.title('magnified')"
      ],
      "execution_count": 160,
      "outputs": [
        {
          "output_type": "execute_result",
          "data": {
            "text/plain": [
              "Text(0.5, 1.0, 'magnified')"
            ]
          },
          "metadata": {
            "tags": []
          },
          "execution_count": 160
        },
        {
          "output_type": "display_data",
          "data": {
            "image/png": "[encoded data removed]",
            "text/plain": [
              "<Figure size 864x2592 with 3 Axes>"
            ]
          },
          "metadata": {
            "tags": []
          }
        }
      ]
    },
    {
      "cell_type": "markdown",
      "metadata": {
        "id": "9Kzn223xZsN3",
        "colab_type": "text"
      },
      "source": [
        "## **Problem 3.1 (d) - Motion Magnification**\n"
      ]
    },
    {
      "cell_type": "code",
      "metadata": {
        "id": "0l47cx31ZvpO",
        "colab_type": "code",
        "outputId": "3e8da614-0343-4126-9816-60b13fd8c83d",
        "colab": {
          "base_uri": "https://localhost:8080/",
          "height": 34
        }
      },
      "source": [
        "import numpy as np\n",
        "import cv2\n",
        "\n",
        "cap = cv2.VideoCapture('bill.avi')\n",
        "\n",
        "# list of video frames\n",
        "frames = []\n",
        "\n",
        "while(cap.isOpened()):\n",
        "    # read frame from the video\n",
        "    ret, frame = cap.read()\n",
        "    \n",
        "    if ret is False:\n",
        "        break\n",
        "\n",
        "    frame = cv2.resize(frame, (200, 200), interpolation=cv2.INTER_CUBIC)\n",
        "    frames.append(frame)\n",
        "\n",
        "cap.release()\n",
        "\n",
        "# scale frame to 0-1\n",
        "frames = np.array(frames) / 255.\n",
        "print(\"frames size:\", frames.shape, \"# (nb_frames, height, width, channel)\")\n",
        "\n",
        "# get height, width\n",
        "num_frames = frames.shape[0]\n",
        "height = frames.shape[1]\n",
        "width = frames.shape[2]"
      ],
      "execution_count": 161,
      "outputs": [
        {
          "output_type": "stream",
          "text": [
            "frames size: (60, 200, 200, 3) # (nb_frames, height, width, channel)\n"
          ],
          "name": "stdout"
        }
      ]
    },
    {
      "cell_type": "code",
      "metadata": {
        "id": "RbB0d5fDZ1DQ",
        "colab_type": "code",
        "outputId": "993420b3-c1d5-401a-ffb6-cb774dfb4b12",
        "colab": {
          "base_uri": "https://localhost:8080/",
          "height": 286
        }
      },
      "source": [
        "# 10x magnification of motion\n",
        "magnification_factor = 10\n",
        "\n",
        "# width of Gaussian window\n",
        "sigma = 26\n",
        "\n",
        "# alpha for moving average\n",
        "alpha = 0.5\n",
        "\n",
        "# we will magnify windows of the video and aggregate the results\n",
        "magnified = np.zeros_like(frames)\n",
        "\n",
        "# meshgrid for computing Gaussian window\n",
        "X, Y = np.meshgrid(np.arange(width), np.arange(height))\n",
        "\n",
        "# iterate over windows of the frames\n",
        "x_range = list(range(0, width, 2*sigma))\n",
        "y_range = list(range(0, height, 2*sigma))\n",
        "num_windows = len(x_range) * len(y_range)\n",
        "window_index = 1\n",
        "\n",
        "for y in y_range:\n",
        "    for x in x_range:\n",
        "        for channel_index in range(3): # RGB channels\n",
        "            for frame_index in range(num_frames):\n",
        "                \n",
        "                # create windowed frames\n",
        "                gaussian_mask = (1/(2*np.pi*sigma*sigma)) * exp((-((X-x)**2 + (Y-y)**2))/(2*sigma**2))\n",
        "                windowed_frames = gaussian_mask * frames[frame_index,:,:,channel_index]\n",
        "            \n",
        "                # initialize moving average of phase for current window/channel\n",
        "                if frame_index == 0:\n",
        "                    window_average_phase = angle(fft2(windowed_frames))\n",
        "                \n",
        "                window_dft = fft2(windowed_frames)\n",
        "                \n",
        "                # compute phase shift and constrain to [-pi, pi] since\n",
        "                # angle space wraps around\n",
        "                window_phase_shift = angle(window_dft) - window_average_phase\n",
        "                window_phase_shift[window_phase_shift > pi] = window_phase_shift[window_phase_shift > pi] - 2 * pi\n",
        "                window_phase_shift[window_phase_shift < -pi] = window_phase_shift[window_phase_shift < -pi] + 2 * pi\n",
        "                \n",
        "                # magnify phase shift\n",
        "                window_magnified_phase = window_average_phase + (window_phase_shift * magnification_factor)\n",
        "                 \n",
        "                # go back to image space\n",
        "                window_magnified_dft = abs(window_dft) * np.exp(window_magnified_phase * 1j)\n",
        "                window_magnified = abs(ifft2(window_magnified_dft))\n",
        "                \n",
        "                # update moving average\n",
        "                window_phase_unwrapped = window_average_phase + window_phase_shift\n",
        "                window_average_phase = alpha * window_average_phase + (1 - alpha) * window_phase_unwrapped\n",
        "                \n",
        "                # aggregate\n",
        "                magnified[frame_index,:,:,channel_index] = magnified[frame_index,:,:,channel_index] + window_magnified\n",
        "        \n",
        "        # print progress\n",
        "        print('{}/{}'.format(window_index, num_windows))\n",
        "        window_index += 1"
      ],
      "execution_count": 162,
      "outputs": [
        {
          "output_type": "stream",
          "text": [
            "1/16\n",
            "2/16\n",
            "3/16\n",
            "4/16\n",
            "5/16\n",
            "6/16\n",
            "7/16\n",
            "8/16\n",
            "9/16\n",
            "10/16\n",
            "11/16\n",
            "12/16\n",
            "13/16\n",
            "14/16\n",
            "15/16\n",
            "16/16\n"
          ],
          "name": "stdout"
        }
      ]
    },
    {
      "cell_type": "code",
      "metadata": {
        "id": "T0LAo9tGZ3IL",
        "colab_type": "code",
        "colab": {}
      },
      "source": [
        "outputs = magnified / np.max(magnified)\n",
        "for channel_index in range(3):\n",
        "    original_frame = frames[0,:,:,channel_index]\n",
        "    magnified_frame = outputs[0,:,:,channel_index]\n",
        "    scale = np.std(original_frame[:]) / np.std(magnified_frame[:])\n",
        "    original_mean = np.mean(original_frame[:])\n",
        "    magnified_mean = np.mean(magnified_frame[:])\n",
        "    outputs[:,:,:,channel_index] = magnified_mean + scale * (outputs[:,:,:,channel_index] - magnified_mean)\n",
        "\n",
        "outputs = np.clip(outputs, 0, 1)"
      ],
      "execution_count": 0,
      "outputs": []
    },
    {
      "cell_type": "code",
      "metadata": {
        "id": "eGwdxkFrZ4K9",
        "colab_type": "code",
        "colab": {}
      },
      "source": [
        "# create output video\n",
        "fourcc = cv2.VideoWriter_fourcc('M','J','P','G')\n",
        "# fourcc = cv2.VideoWriter_fourcc(*'XVID')\n",
        "out = cv2.VideoWriter('bill_magnified.avi',fourcc, 30.0, (height, width))\n",
        "\n",
        "for i in range(frames.shape[0]):\n",
        "    # scale the frame back to 0-255\n",
        "    frame = (np.clip(outputs[i], 0, 1) * 255).astype(np.uint8)\n",
        "    \n",
        "    # write frame to output video\n",
        "    out.write(frame)\n",
        "\n",
        "out.release()"
      ],
      "execution_count": 0,
      "outputs": []
    },
    {
      "cell_type": "code",
      "metadata": {
        "id": "8QgaekEWZ6lE",
        "colab_type": "code",
        "colab": {}
      },
      "source": [
        "# Only for colab downloading videos\n",
        "try:\n",
        "    from google.colab import files\n",
        "    files.download('bill_magnified.avi')\n",
        "except:\n",
        "    print(\"Only for google colab\")"
      ],
      "execution_count": 0,
      "outputs": []
    },
    {
      "cell_type": "markdown",
      "metadata": {
        "id": "NPrGFZZ-aGcx",
        "colab_type": "text"
      },
      "source": [
        "## **Problem 3.2 - Texture Synthesis**\n",
        "\n",
        "Note that the functions provided below are templates. Feel free to add your own helper functions as needed.\n",
        "\n",
        "You can reference the pseudocode provided here:  https://people.eecs.berkeley.edu/~efros/research/NPS/alg.html."
      ]
    },
    {
      "cell_type": "markdown",
      "metadata": {
        "id": "DxMJ7MolbtZa",
        "colab_type": "text"
      },
      "source": [
        "### Find matches function"
      ]
    },
    {
      "cell_type": "code",
      "metadata": {
        "id": "aay0xFu3b0rS",
        "colab_type": "code",
        "colab": {}
      },
      "source": [
        "def find_matches(template, sample, gauss_mask):\n",
        "    ### parameters, as used by Efros and Leung\n",
        "    [sheight,swidth,channels]=sample.shape\n",
        "    window_size, _ , _ =template.shape\n",
        "    epsilon = 0.1\n",
        "    window=int(window_size/2)\n",
        "    h = sheight - window_size + 1\n",
        "    SSD = np.zeros((h * h))\n",
        "    \n",
        "    #### TODO:\n",
        "    # valid_mask is a square mask of width window_size that is 1 where template is filled\n",
        "    valid_mask=np.zeros_like(template[: , : , 0])\n",
        "    for m in range (template.shape[0]):\n",
        "      for n in range (template.shape[1]):\n",
        "        valid_mask[m,n]=np.any(template[m,n,:])\n",
        "    #### TODO:\n",
        "    # vectorized code that calculates SSD(template, sample)*mask for all patches\n",
        "    vec_gaussian_mask=gauss_mask * valid_mask.astype(np.float64)\n",
        "    vec_gaussian_mask=vec_gaussian_mask.reshape(window_size*window_size,1)/np.sum(vec_gaussian_mask)\n",
        "\n",
        "    template=template.reshape(window_size*window_size, 1 , channels)\n",
        "\n",
        "    s_shape=window_size, window_size, h ,h ,channels \n",
        "    stride0,stride1,stride2 = sample.strides\n",
        "    strides=stride0,stride1,stride0,stride1,stride2\n",
        "\n",
        "    output=np.lib.stride_tricks.as_strided(sample,shape=s_shape,strides=strides)\n",
        "    c=output.reshape(window_size*window_size,h*h,channels)\n",
        "\n",
        "    distance=np.square((template-c))\n",
        "    difference=np.sum(distance, axis=2) * vec_gaussian_mask\n",
        "    SSD=np.sum(difference,axis=0)\n",
        "\n",
        "    minimum=np.min(SSD)\n",
        "    SSD=SSD.reshape(h,h)\n",
        "    idx= np.where(SSD<= minimum * (1 + epsilon))\n",
        "\n",
        "    return sample[idx[0]+ window, idx[1]+ window], SSD[idx]"
      ],
      "execution_count": 0,
      "outputs": []
    },
    {
      "cell_type": "markdown",
      "metadata": {
        "id": "dL_bp42ob1AT",
        "colab_type": "text"
      },
      "source": [
        "### Synthesize texture function"
      ]
    },
    {
      "cell_type": "code",
      "metadata": {
        "id": "EOOIwV57b-eT",
        "colab_type": "code",
        "colab": {}
      },
      "source": [
        "def synth_texture(sample, window_size, out_size):\n",
        "    # normalize pixel intensity\n",
        "    sample = sample.astype(np.float64)\n",
        "    sample = sample / 255.0\n",
        "    seed_size = 3\n",
        "    [sheight, swidth, channels] = sample.shape\n",
        "    synth_img = np.zeros((*out_size, channels))\n",
        "    \n",
        "    max_threshold_error=0.3\n",
        "    delta=0.3\n",
        "\n",
        "    # initialization: pick a random 3x3 patch from sample and place in the middle of the synthesized image\n",
        "    rh = round(seed_size + np.random.uniform(0,1) * (sheight - 2 * seed_size))\n",
        "    rw = round(seed_size + np.random.uniform(0,1) * (swidth - 2 * seed_size))\n",
        "    center = [round(.5 * x) for x in out_size] # center\n",
        "    synth_img[center[0]: center[0] + seed_size, center[1]: center[1] + seed_size ,:] = sample[rh: rh + seed_size , rw: rw + seed_size,:]\n",
        "\n",
        "    # bitmap indicating filled pixels, the seed patch is initially filled\n",
        "    filled = np.zeros(out_size)\n",
        "    filled[center[0]: center[0] + seed_size , center[1]: center[1] + seed_size] = 1\n",
        "    num_filled = int(np.sum(filled))\n",
        "    n_pixels = out_size[0]*out_size[1]\n",
        "\n",
        "    window=int(window_size / 2)\n",
        "    sigma= (window_size / 6.4)\n",
        "    X, Y = np.meshgrid(np.arange(window_size), np.arange(window_size))\n",
        "    gaussian_mask = (1/(2*np.pi*sigma*sigma)) * exp((-((X-window)**2 + (Y-window)**2))/(2*sigma**2))\n",
        "\n",
        "    # main loop: repeat until all pixels are filled\n",
        "    next_p = n_pixels / 10\n",
        "    while(num_filled < n_pixels):\n",
        "        # report progress\n",
        "        if(num_filled > next_p):\n",
        "            print(round(100 * num_filled / n_pixels), '% complete')\n",
        "            next_p += n_pixels / 10\n",
        "\n",
        "        # TODO:\n",
        "        dilated_image=ndimage.binary_dilation(filled).astype(filled.dtype)\n",
        "        bound=dilated_image-filled\n",
        "        pixel_list=[]\n",
        "        #bound=ndimage.binary_dilation(filled).astype(filled.dtype)-filled\n",
        "        #(i1,j1)=np.ix_(*np.nonzero(bound))\n",
        "        #for i in range(len(i1)):\n",
        "          #pixel_list.append((int(j1[0,i]),int(i1[i,0])))\n",
        "\n",
        "        # TODO:\n",
        "        # (optional, but recommended) randomly permute and sort list of pixels decreasing number of filled neighbor pixels\n",
        "        \n",
        "        # TODO:\n",
        "        #pixel_list=[]\n",
        "        for m in range (bound.shape[0]):\n",
        "          for n in range (bound.shape[1]):\n",
        "            if(bound[m,n]==1):\n",
        "              pixel_list.append((m,n))\n",
        "        \n",
        "        for x, y in pixel_list:\n",
        "          # TODO:\n",
        "          # place window with center as (x, y) and use as template\n",
        "          #q,r,s=sample.shape\n",
        "         \n",
        "          max_xstart=min(x+ window + 1, out_size[1])\n",
        "          min_xstart=max(x- window, 0)\n",
        "          max_ystart=min(y+window + 1, out_size[0])\n",
        "          min_ystart=max(y- window, 0)\n",
        "\n",
        "          max_xend= window_size - ((x + window + 1)-max_xstart)\n",
        "          min_xend=0-((x - window)-min_xstart)\n",
        "          max_yend=window_size-((y + window +1)-max_ystart)\n",
        "          min_yend=0-((y - window)-min_ystart)    \n",
        "\n",
        "          template_window=np.zeros((window_size,window_size,channels))       \n",
        "          template_window[min_xend : max_xend , min_yend : max_yend, :]=synth_img[min_xstart : max_xstart, min_ystart : max_ystart, :]\n",
        "\n",
        "          samp_image,ssd = find_matches(template_window, sample, gaussian_mask)\n",
        "         \n",
        "          #select a random pixel to sample from the best match\n",
        "          randpix=np.random.choice(np.arange(samp_image.shape[0]))\n",
        "\n",
        "          if ssd[randpix]<= max_threshold_error:\n",
        "            max_threshold_error=delta  #re-initialization\n",
        "            filled[x,y]=1\n",
        "            synth_img[x,y,:]=samp_image[randpix, :]\n",
        "          if not (np.sum(filled)-num_filled>0) :\n",
        "            max_threshold_error= max_threshold_error*1.1 \n",
        "          # TODO:\n",
        "          # find the best matching windows from sample image\n",
        "          # randomly sample one from best matches\n",
        "          num_filled=np.sum(filled)\n",
        "          #pass\n",
        "    return synth_img*255"
      ],
      "execution_count": 0,
      "outputs": []
    },
    {
      "cell_type": "markdown",
      "metadata": {
        "id": "ar9WGk44b_Aw",
        "colab_type": "text"
      },
      "source": [
        "### Main function\n",
        "\n",
        "Run the texture synthesis algorithm to generate texture of new shape. "
      ]
    },
    {
      "cell_type": "code",
      "metadata": {
        "id": "cE0a6bhJcBbp",
        "colab_type": "code",
        "outputId": "5eca4676-d38f-4238-f13d-d7f644b87cbf",
        "colab": {
          "base_uri": "https://localhost:8080/",
          "height": 1000
        }
      },
      "source": [
        "# Texture synthesis on rings\n",
        "source = cv2.imread('rings.jpg')\n",
        "window_sizes = [5, 7, 13] \n",
        "out_size = [100, 100]\n",
        "\n",
        "print('Source Image')\n",
        "cv2_imshow(source)\n",
        "\n",
        "for w in window_sizes:\n",
        "  target = synth_texture(source, w, out_size)\n",
        "  print('Target Image')\n",
        "  cv2_imshow(target)\n",
        "\n",
        "w = 5\n",
        "\n",
        "# Texture synthesis on colored image\n",
        "source = cv2.imread('texture.jpg')\n",
        "print('Source Image')\n",
        "cv2_imshow(source)\n",
        "target = synth_texture(source, w, out_size)\n",
        "print('Target Image')\n",
        "cv2_imshow(target)\n",
        "\n",
        "# Don't need to submit this one\n",
        "#source = cv2.imread('jigsaw.jpg')\n",
        "#print('Source Image')\n",
        "#cv2_imshow(source)\n",
        "#target = synth_texture(source, w, out_size)\n",
        "#print('Target Image')\n",
        "#cv2_imshow(target)"
      ],
      "execution_count": 168,
      "outputs": [
        {
          "output_type": "stream",
          "text": [
            "Source Image\n"
          ],
          "name": "stdout"
        },
        {
          "output_type": "display_data",
          "data": {
            "image/png": "[encoded data removed]",
            "text/plain": [
              "<PIL.Image.Image image mode=RGB size=34x34 at 0x7F4DB9019710>"
            ]
          },
          "metadata": {
            "tags": []
          }
        },
        {
          "output_type": "stream",
          "text": [
            "10.0 % complete\n",
            "21.0 % complete\n",
            "31.0 % complete\n",
            "41.0 % complete\n",
            "51.0 % complete\n",
            "60.0 % complete\n",
            "70.0 % complete\n",
            "80.0 % complete\n",
            "91.0 % complete\n",
            "Target Image\n"
          ],
          "name": "stdout"
        },
        {
          "output_type": "display_data",
          "data": {
            "image/png": "[encoded data removed]",
            "text/plain": [
              "<PIL.Image.Image image mode=RGB size=100x100 at 0x7F4DB901EBA8>"
            ]
          },
          "metadata": {
            "tags": []
          }
        },
        {
          "output_type": "stream",
          "text": [
            "10.0 % complete\n",
            "21.0 % complete\n",
            "31.0 % complete\n",
            "41.0 % complete\n",
            "51.0 % complete\n",
            "60.0 % complete\n",
            "70.0 % complete\n",
            "80.0 % complete\n",
            "91.0 % complete\n",
            "Target Image\n"
          ],
          "name": "stdout"
        },
        {
          "output_type": "display_data",
          "data": {
            "image/png": "[encoded data removed]",
            "text/plain": [
              "<PIL.Image.Image image mode=RGB size=100x100 at 0x7F4DB901EBE0>"
            ]
          },
          "metadata": {
            "tags": []
          }
        },
        {
          "output_type": "stream",
          "text": [
            "10.0 % complete\n",
            "21.0 % complete\n",
            "31.0 % complete\n",
            "41.0 % complete\n",
            "51.0 % complete\n",
            "60.0 % complete\n",
            "70.0 % complete\n",
            "80.0 % complete\n",
            "91.0 % complete\n",
            "Target Image\n"
          ],
          "name": "stdout"
        },
        {
          "output_type": "display_data",
          "data": {
            "image/png": "[encoded data removed]",
            "text/plain": [
              "<PIL.Image.Image image mode=RGB size=100x100 at 0x7F4DB901EBA8>"
            ]
          },
          "metadata": {
            "tags": []
          }
        },
        {
          "output_type": "stream",
          "text": [
            "Source Image\n"
          ],
          "name": "stdout"
        },
        {
          "output_type": "display_data",
          "data": {
            "image/png": "[encoded data removed]",
            "text/plain": [
              "<PIL.Image.Image image mode=RGB size=68x68 at 0x7F4DB90199B0>"
            ]
          },
          "metadata": {
            "tags": []
          }
        },
        {
          "output_type": "stream",
          "text": [
            "10.0 % complete\n",
            "21.0 % complete\n",
            "31.0 % complete\n",
            "41.0 % complete\n",
            "51.0 % complete\n",
            "60.0 % complete\n",
            "70.0 % complete\n",
            "80.0 % complete\n",
            "91.0 % complete\n",
            "Target Image\n"
          ],
          "name": "stdout"
        },
        {
          "output_type": "display_data",
          "data": {
            "image/png": "[encoded data removed]",
            "text/plain": [
              "<PIL.Image.Image image mode=RGB size=100x100 at 0x7F4DB90199B0>"
            ]
          },
          "metadata": {
            "tags": []
          }
        }
      ]
    },
    {
      "cell_type": "markdown",
      "metadata": {
        "id": "jtbVsOJwVVbq",
        "colab_type": "text"
      },
      "source": [
        "As we increase the window size, the result for texture synthesis is better. However, the computation power required is more. The computation time also increases with increase in window size. As we are selecting a random pixel from SSD list, the target image will be different for every implementation, even if we re-run the algorithm with the same starting seed. This is true for any size of the window. The most optimal way is to choose the pixel with smallest SSD to generate same image."
      ]
    },
    {
      "cell_type": "code",
      "metadata": {
        "id": "e3B4iagc9xQG",
        "colab_type": "code",
        "colab": {}
      },
      "source": [
        ""
      ],
      "execution_count": 0,
      "outputs": []
    }
  ]
}